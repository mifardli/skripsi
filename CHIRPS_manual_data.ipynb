{
  "nbformat": 4,
  "nbformat_minor": 0,
  "metadata": {
    "colab": {
      "provenance": []
    },
    "kernelspec": {
      "name": "python3",
      "display_name": "Python 3"
    },
    "language_info": {
      "name": "python"
    }
  },
  "cells": [
    {
      "cell_type": "markdown",
      "source": [
        "Use this code for extracting the CHIRPS dataset based on your shapefile that you generated as you wish.\n",
        "PS: use this code using Google Earth Engine, it's using Javascript 6."
      ],
      "metadata": {
        "id": "v3YNXs1IFuV9"
      }
    },
    {
      "cell_type": "code",
      "execution_count": null,
      "metadata": {
        "id": "FLz0Al8xFo1h"
      },
      "outputs": [],
      "source": [
        "Map.addLayer(lembang) //add your shapefile\n",
        "var image = ee.ImageCollection(\"UCSB-CHG/CHIRPS/DAILY\")\n",
        "var data = image.filterDate('2012-01-01', '2022-12-31')\n",
        "print(data)\n",
        "var preci = data.map(function(data){\n",
        "  return data.clip(lembang)\n",
        "})\n",
        "var precipitation = preci.select('precipitation')\n",
        "print(precipitation, 'precipitation')\n",
        "Map.addLayer(precipitation)"
      ]
    }
  ]
}