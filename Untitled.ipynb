{
 "cells": [
  {
   "cell_type": "code",
   "execution_count": 2,
   "id": "8ba7ed1c",
   "metadata": {},
   "outputs": [
    {
     "name": "stdout",
     "output_type": "stream",
     "text": [
      "Collecting openpyxl\n",
      "  Downloading openpyxl-3.1.3-py2.py3-none-any.whl.metadata (2.5 kB)\n",
      "Collecting et-xmlfile (from openpyxl)\n",
      "  Downloading et_xmlfile-1.1.0-py3-none-any.whl.metadata (1.8 kB)\n",
      "Downloading openpyxl-3.1.3-py2.py3-none-any.whl (251 kB)\n",
      "\u001b[2K   \u001b[90m━━━━━━━━━━━━━━━━━━━━━━━━━━━━━━━━━━━━━━━\u001b[0m \u001b[32m251.3/251.3 kB\u001b[0m \u001b[31m348.5 kB/s\u001b[0m eta \u001b[36m0:00:00\u001b[0ma \u001b[36m0:00:01\u001b[0m\n",
      "\u001b[?25hDownloading et_xmlfile-1.1.0-py3-none-any.whl (4.7 kB)\n",
      "Installing collected packages: et-xmlfile, openpyxl\n",
      "Successfully installed et-xmlfile-1.1.0 openpyxl-3.1.3\n",
      "\n",
      "\u001b[1m[\u001b[0m\u001b[34;49mnotice\u001b[0m\u001b[1;39;49m]\u001b[0m\u001b[39;49m A new release of pip is available: \u001b[0m\u001b[31;49m23.3.2\u001b[0m\u001b[39;49m -> \u001b[0m\u001b[32;49m24.0\u001b[0m\n",
      "\u001b[1m[\u001b[0m\u001b[34;49mnotice\u001b[0m\u001b[1;39;49m]\u001b[0m\u001b[39;49m To update, run: \u001b[0m\u001b[32;49mpip install --upgrade pip\u001b[0m\n"
     ]
    }
   ],
   "source": [
    "!pip install openpyxl\n"
   ]
  },
  {
   "cell_type": "code",
   "execution_count": 4,
   "id": "018b3072",
   "metadata": {},
   "outputs": [],
   "source": [
    "import pandas as pd\n",
    "\n",
    "# Define the data for the schedule with 1-hour intervals and \"selesai\"\n",
    "data_with_dosen = {\n",
    "    \"Waktu\": [\"09:00 - selesai\", \"10:00 - selesai\", \"11:00 - selesai\", \"13:00 - selesai\", \"14:00 - selesai\", \"15:00 - selesai\"],\n",
    "    \"Senin, 3 Juni\": [\"\", \"\", \"\", \"\", \"\", \"\"],\n",
    "    \"Selasa, 4 Juni\": [\"\", \"\", \"\", \"\", \"\", \"\"],\n",
    "    \"Rabu, 5 Juni\": [\"\", \"\", \"\", \"\", \"\", \"\"],\n",
    "    \"Kamis, 6 Juni\": [\"\", \"\", \"\", \"\", \"\", \"\"],\n",
    "    \"Jumat, 7 Juni\": [\"\", \"\", \"\", \"\", \"\", \"\"]\n",
    "}\n",
    "\n",
    "# Create the DataFrame\n",
    "df_with_dosen = pd.DataFrame(data_with_dosen)\n",
    "\n",
    "# Add a header for the names of the dosen\n",
    "header = pd.DataFrame({\n",
    "    \"Waktu\": [\"\", \"Dosen Pembimbing 1: Prof. Dr. Ir. H. Mahfud Arifin, MS.\", \"Dosen Pembimbing 2: Dr. Muhammad Amir Solihin, SP., MT.\", \n",
    "              \"Dosen Penelaah 1: Ade Setiawan, SP., MP.\", \"Dosen Penelaah 2: Santika Sari, SP., MP.\", \"\", \"\"],\n",
    "    \"Senin, 3 Juni\": [\"\", \"\", \"\", \"\", \"\", \"\", \"\"],\n",
    "    \"Selasa, 4 Juni\": [\"\", \"\", \"\", \"\", \"\", \"\", \"\"],\n",
    "    \"Rabu, 5 Juni\": [\"\", \"\", \"\", \"\", \"\", \"\", \"\"],\n",
    "    \"Kamis, 6 Juni\": [\"\", \"\", \"\", \"\", \"\", \"\", \"\"],\n",
    "    \"Jumat, 7 Juni\": [\"\", \"\", \"\", \"\", \"\", \"\", \"\"]\n",
    "})\n",
    "\n",
    "# Concatenate header and data\n",
    "df_final = pd.concat([header, df_with_dosen], ignore_index=True)\n",
    "\n",
    "# Add guidance to the bottom of the DataFrame\n",
    "guidance = {\n",
    "    \"Waktu\": [\"\", \"\", \"\", \"Panduan Pengisian:\", \n",
    "              \"1. Setiap dosen diminta untuk mengisi waktu yang mereka tersedia dengan tanda (misalnya, ✔️ atau 'Tersedia').\",\n",
    "              \"2. Cari slot waktu di mana semua dosen bisa hadir setelah semua dosen mengisi waktu ketersediaan mereka.\",\n",
    "              \"3. Tentukan jadwal sidang kolokium berdasarkan waktu yang sesuai bagi semua dosen.\"],\n",
    "    \"Senin, 3 Juni\": [\"\", \"\", \"\", \"\", \"\", \"\"],\n",
    "    \"Selasa, 4 Juni\": [\"\", \"\", \"\", \"\", \"\", \"\"],\n",
    "    \"Rabu, 5 Juni\": [\"\", \"\", \"\", \"\", \"\", \"\"],\n",
    "    \"Kamis, 6 Juni\": [\"\", \"\", \"\", \"\", \"\", \"\"],\n",
    "    \"Jumat, 7 Juni\": [\"\", \"\", \"\", \"\", \"\", \"\"]\n",
    "}\n",
    "\n",
    "# Adjust the lengths to match\n",
    "for key in guidance.keys():\n",
    "    while len(guidance[key]) < 12:\n",
    "        guidance[key].append(\"\")\n",
    "\n",
    "# Create a DataFrame for the guidance\n",
    "df_guidance = pd.DataFrame(guidance)\n",
    "\n",
    "# Concatenate the original data and the guidance\n",
    "df_with_guidance = pd.concat([df_final, df_guidance], ignore_index=True)\n",
    "\n",
    "# Save the updated DataFrame to an Excel file\n",
    "filename_with_guidance = \"jadwal_sidang_kolokium_with_guidance.xlsx\"\n",
    "df_with_guidance.to_excel(filename_with_guidance, index=False, header=False)\n"
   ]
  },
  {
   "cell_type": "code",
   "execution_count": null,
   "id": "a0fa232d",
   "metadata": {},
   "outputs": [],
   "source": []
  }
 ],
 "metadata": {
  "kernelspec": {
   "display_name": "Python 3 (ipykernel)",
   "language": "python",
   "name": "python3"
  },
  "language_info": {
   "codemirror_mode": {
    "name": "ipython",
    "version": 3
   },
   "file_extension": ".py",
   "mimetype": "text/x-python",
   "name": "python",
   "nbconvert_exporter": "python",
   "pygments_lexer": "ipython3",
   "version": "3.11.3"
  }
 },
 "nbformat": 4,
 "nbformat_minor": 5
}
