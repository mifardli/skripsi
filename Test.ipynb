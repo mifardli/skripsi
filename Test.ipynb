{
 "cells": [
  {
   "cell_type": "code",
   "execution_count": 1,
   "id": "b68b7eac",
   "metadata": {},
   "outputs": [],
   "source": [
    "import geopandas as gpd\n",
    "import requests\n",
    "import pandas as pd\n",
    "from shapely.geometry import shape\n"
   ]
  },
  {
   "cell_type": "code",
   "execution_count": 10,
   "id": "a17429e1",
   "metadata": {},
   "outputs": [],
   "source": [
    "stations_url = \"https://api.energyandcleanair.org/stations?country=GB,US,TR,PH,IN,TH&format=geojson\"\n",
    "stations_respons = requests.get(stations_url)\n",
    "stations_data = stations_respons.json()\n",
    "\n",
    "stations_gdf = gpd.GeoDataFrame.from_features(stations_data['features'])\n",
    "stations_gdf = stations_gdf.set_crs(\"EPSG:4326\")\n"
   ]
  },
  {
   "cell_type": "code",
   "execution_count": 11,
   "id": "84711445",
   "metadata": {},
   "outputs": [],
   "source": [
    "#Fetching data\n",
    "countries_url = \"https://datahub.io/core/geo-countries/r/countries.geojson\"\n",
    "countries_respons = requests.get(countries_url)\n",
    "countries_data = countries_response.json()\n",
    "\n",
    "# GeoDataFrame\n",
    "countries_gdf = gpd.GeoDataFrame.from_features(countries_data['features'])\n",
    "countries_gdf = countries_gdf.set_crs(\"EPSG:4326\")\n"
   ]
  },
  {
   "cell_type": "code",
   "execution_count": 14,
   "id": "181e0944",
   "metadata": {},
   "outputs": [
    {
     "name": "stdout",
     "output_type": "stream",
     "text": [
      "{'type': 'Feature', 'properties': {'ADMIN': 'Aruba', 'ISO_A3': 'ABW', 'ISO_A2': 'AW'}, 'geometry': {'type': 'MultiPolygon', 'coordinates': [[[[-69.99693762899992, 12.577582098000036], [-69.93639075399994, 12.53172435100005], [-69.92467200399994, 12.519232489000046], [-69.91576087099992, 12.497015692000076], [-69.88019771999984, 12.453558661000045], [-69.87682044199994, 12.427394924000097], [-69.88809160099993, 12.417669989000046], [-69.90880286399994, 12.417792059000107], [-69.93053137899989, 12.425970770000035], [-69.94513912699992, 12.44037506700009], [-69.92467200399994, 12.44037506700009], [-69.92467200399994, 12.447211005000014], [-69.95856686099992, 12.463202216000099], [-70.02765865799992, 12.522935289000088], [-70.04808508999989, 12.53115469000008], [-70.05809485599988, 12.537176825000088], [-70.06240800699987, 12.546820380000057], [-70.06037350199995, 12.556952216000113], [-70.0510961579999, 12.574042059000064], [-70.04873613199993, 12.583726304000024], [-70.05264238199993, 12.600002346000053], [-70.05964107999992, 12.614243882000054], [-70.06110592399997, 12.625392971000068], [-70.04873613199993, 12.632147528000104], [-70.00715084499987, 12.5855166690001], [-69.99693762899992, 12.577582098000036]]]]}}\n"
     ]
    }
   ],
   "source": [
    "#test in order to know the dataset variable for country(?) target\n",
    "print(countries_data['features'][0])"
   ]
  },
  {
   "cell_type": "code",
   "execution_count": 15,
   "id": "97a3556b",
   "metadata": {},
   "outputs": [],
   "source": [
    "# List countries\n",
    "target_countries = ['United States', 'United Kingdom', 'Turkey', 'Thailand', 'Philippines', 'India']\n",
    "\n",
    "# Filter the countries\n",
    "countries_gdf = countries_gdf[countries_gdf['ADMIN'].isin(target_countries)]\n"
   ]
  },
  {
   "cell_type": "code",
   "execution_count": 16,
   "id": "19f9c7e3",
   "metadata": {},
   "outputs": [],
   "source": [
    "# Placeholder results\n",
    "results = []\n",
    "\n",
    "# Iteration\n",
    "for _, country in countries_gdf.iterrows():\n",
    "    country_name = country['ADMIN']\n",
    "    country_geometry = country['geometry']\n",
    "    \n",
    "    # Find the stations \n",
    "    stations_in_country = stations_gdf[stations_gdf.geometry.within(country_geometry)]\n",
    "    \n",
    "    # Calculate the number of stations in listed countries\n",
    "    num_stations = len(stations_in_country)\n",
    "    \n",
    "    # Calculate the area (using metric)\n",
    "    country_area = country_geometry.area / 10**6  \n",
    "    \n",
    "    # Calculate the density \n",
    "    density = (num_stations / country_area) * 1000\n",
    "    \n",
    "    # Append it\n",
    "    results.append({\n",
    "        'Country Name': country_name,\n",
    "        'Number of PM10 Stations': num_stations,\n",
    "        'Area (sq. km)': country_area,\n",
    "        'Density of PM10 Stations per 1,000 sq. km': density\n",
    "    })\n"
   ]
  },
  {
   "cell_type": "code",
   "execution_count": 17,
   "id": "f9bc98cb",
   "metadata": {},
   "outputs": [
    {
     "data": {
      "text/html": [
       "<div>\n",
       "<style scoped>\n",
       "    .dataframe tbody tr th:only-of-type {\n",
       "        vertical-align: middle;\n",
       "    }\n",
       "\n",
       "    .dataframe tbody tr th {\n",
       "        vertical-align: top;\n",
       "    }\n",
       "\n",
       "    .dataframe thead th {\n",
       "        text-align: right;\n",
       "    }\n",
       "</style>\n",
       "<table border=\"1\" class=\"dataframe\">\n",
       "  <thead>\n",
       "    <tr style=\"text-align: right;\">\n",
       "      <th></th>\n",
       "      <th>Country Name</th>\n",
       "      <th>Number of PM10 Stations</th>\n",
       "      <th>Area (sq. km)</th>\n",
       "      <th>Density of PM10 Stations per 1,000 sq. km</th>\n",
       "    </tr>\n",
       "  </thead>\n",
       "  <tbody>\n",
       "    <tr>\n",
       "      <th>0</th>\n",
       "      <td>United Kingdom</td>\n",
       "      <td>422</td>\n",
       "      <td>0.000034</td>\n",
       "      <td>1.257984e+10</td>\n",
       "    </tr>\n",
       "    <tr>\n",
       "      <th>3</th>\n",
       "      <td>Thailand</td>\n",
       "      <td>340</td>\n",
       "      <td>0.000043</td>\n",
       "      <td>7.847862e+09</td>\n",
       "    </tr>\n",
       "    <tr>\n",
       "      <th>4</th>\n",
       "      <td>Turkey</td>\n",
       "      <td>369</td>\n",
       "      <td>0.000081</td>\n",
       "      <td>4.543806e+09</td>\n",
       "    </tr>\n",
       "    <tr>\n",
       "      <th>1</th>\n",
       "      <td>India</td>\n",
       "      <td>552</td>\n",
       "      <td>0.000279</td>\n",
       "      <td>1.981063e+09</td>\n",
       "    </tr>\n",
       "    <tr>\n",
       "      <th>2</th>\n",
       "      <td>Philippines</td>\n",
       "      <td>19</td>\n",
       "      <td>0.000024</td>\n",
       "      <td>7.796080e+08</td>\n",
       "    </tr>\n",
       "  </tbody>\n",
       "</table>\n",
       "</div>"
      ],
      "text/plain": [
       "     Country Name  Number of PM10 Stations  Area (sq. km)  \\\n",
       "0  United Kingdom                      422       0.000034   \n",
       "3        Thailand                      340       0.000043   \n",
       "4          Turkey                      369       0.000081   \n",
       "1           India                      552       0.000279   \n",
       "2     Philippines                       19       0.000024   \n",
       "\n",
       "   Density of PM10 Stations per 1,000 sq. km  \n",
       "0                               1.257984e+10  \n",
       "3                               7.847862e+09  \n",
       "4                               4.543806e+09  \n",
       "1                               1.981063e+09  \n",
       "2                               7.796080e+08  "
      ]
     },
     "execution_count": 17,
     "metadata": {},
     "output_type": "execute_result"
    }
   ],
   "source": [
    "\n",
    "results_df = pd.DataFrame(results)\n",
    "\n",
    "\n",
    "results_df_sorted = results_df.sort_values(by='Density of PM10 Stations per 1,000 sq. km', ascending=False)\n",
    "\n",
    "\n",
    "results_df_sorted\n"
   ]
  },
  {
   "cell_type": "code",
   "execution_count": null,
   "id": "092586f4",
   "metadata": {},
   "outputs": [],
   "source": []
  }
 ],
 "metadata": {
  "kernelspec": {
   "display_name": "Python 3 (ipykernel)",
   "language": "python",
   "name": "python3"
  },
  "language_info": {
   "codemirror_mode": {
    "name": "ipython",
    "version": 3
   },
   "file_extension": ".py",
   "mimetype": "text/x-python",
   "name": "python",
   "nbconvert_exporter": "python",
   "pygments_lexer": "ipython3",
   "version": "3.11.3"
  }
 },
 "nbformat": 4,
 "nbformat_minor": 5
}
