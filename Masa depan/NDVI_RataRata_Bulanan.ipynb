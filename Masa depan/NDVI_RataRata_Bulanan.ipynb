{
 "cells": [
  {
   "cell_type": "markdown",
   "id": "ac0b1ae1",
   "metadata": {},
   "source": [
    "# NDVI Rata-Rata Bulanan (2013–2022)\n",
    "Notebook ini menghitung rata-rata NDVI bulanan dari data observasi 10 tahun di Sub-DAS Cikapundung. Hasil ini dapat digunakan sebagai proxy NDVI masa depan untuk prediksi SPI."
   ]
  },
  {
   "cell_type": "code",
   "execution_count": null,
   "id": "0a4db7f5",
   "metadata": {},
   "outputs": [],
   "source": [
    "import pandas as pd\n",
    "import matplotlib.pyplot as plt\n",
    "\n",
    "# Load data CSV\n",
    "df = pd.read_csv(\"Lembang_Merged_SPI_CLEANED.csv\")\n",
    "\n",
    "# Konversi kolom 'date' ke datetime\n",
    "df['date'] = pd.to_datetime(df['date'])\n",
    "\n",
    "# Ekstrak bulan dan tahun\n",
    "df['Tahun'] = df['date'].dt.year\n",
    "df['Bulan'] = df['date'].dt.month\n",
    "\n",
    "# Hitung rata-rata NDVI tiap bulan selama 10 tahun\n",
    "ndvi_bulanan = df.groupby(\"Bulan\")[\"NDVI\"].mean().reset_index()\n",
    "ndvi_bulanan.columns = [\"Bulan\", \"NDVI_RataRata\"]\n",
    "\n",
    "# Tampilkan hasil\n",
    "print(ndvi_bulanan)"
   ]
  },
  {
   "cell_type": "code",
   "execution_count": null,
   "id": "51c82d36",
   "metadata": {},
   "outputs": [],
   "source": [
    "# Visualisasi NDVI musiman\n",
    "plt.figure(figsize=(10,5))\n",
    "plt.plot(ndvi_bulanan[\"Bulan\"], ndvi_bulanan[\"NDVI_RataRata\"], marker='o')\n",
    "plt.title(\"NDVI Rata-Rata Bulanan (2013–2022)\")\n",
    "plt.xlabel(\"Bulan\")\n",
    "plt.ylabel(\"NDVI\")\n",
    "plt.grid(True)\n",
    "plt.xticks(range(1, 13))\n",
    "plt.show()"
   ]
  },
  {
   "cell_type": "code",
   "execution_count": null,
   "id": "5c1ee032",
   "metadata": {},
   "outputs": [],
   "source": [
    "# Simpan hasil ke CSV\n",
    "ndvi_bulanan.to_csv(\"NDVI_RataRata_Bulanan_2013_2022.csv\", index=False)"
   ]
  }
 ],
 "metadata": {},
 "nbformat": 4,
 "nbformat_minor": 5
}
