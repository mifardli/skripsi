{
  "nbformat": 4,
  "nbformat_minor": 0,
  "metadata": {
    "colab": {
      "provenance": []
    },
    "kernelspec": {
      "name": "python3",
      "display_name": "Python 3"
    },
    "language_info": {
      "name": "python"
    }
  },
  "cells": [
    {
      "cell_type": "markdown",
      "source": [
        "Use this reproduction code only after you're using the LST Code because it's unseparable."
      ],
      "metadata": {
        "id": "c1IR8Q4WDUuP"
      }
    },
    {
      "cell_type": "code",
      "execution_count": null,
      "metadata": {
        "id": "BN3IlvF-C-Rp"
      },
      "outputs": [],
      "source": [
        "// Hitung NDVI dari citra\n",
        "var NDVI = LembangScale.normalizedDifference(['SR_B5', 'SR_B4']).rename('NDVI');\n",
        "\n",
        "// Gabungkan NDVI ke citra LST (biar bisa disample bareng)\n",
        "var combinedImage = LST_celcius.addBands(NDVI);\n",
        "\n",
        "// Sampling data suhu + NDVI\n",
        "var samplePoints = combinedImage.sample({\n",
        "  region: lembang2,\n",
        "  scale: 30,\n",
        "  geometries: true\n",
        "});\n",
        "\n",
        "Export.table.toDrive({\n",
        "  collection: samplePoints,\n",
        "  description: 'LST_NDVI_Points_Lembang',\n",
        "  folder: 'GEE_Exports',\n",
        "  fileFormat: 'CSV'\n",
        "});\n"
      ]
    }
  ]
}