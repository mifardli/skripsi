{
 "cells": [
  {
   "cell_type": "markdown",
   "id": "e18d0246",
   "metadata": {},
   "source": [
    "# Perhitungan SPI-1 dan SPI-3 dari Data CHIRPS\n",
    "Notebook ini menghitung SPI-1 dan SPI-3 berdasarkan metode z-score dari CHIRPS bulanan.\n",
    "- SPI-1: Z-score dari CHIRPS bulanan\n",
    "- SPI-3: Z-score dari rata-rata CHIRPS 3 bulan berturut-turut\n"
   ]
  },
  {
   "cell_type": "code",
   "execution_count": null,
   "id": "4619f00b",
   "metadata": {},
   "outputs": [],
   "source": [
    "import pandas as pd\n",
    "import numpy as np"
   ]
  },
  {
   "cell_type": "code",
   "execution_count": null,
   "id": "e3e21ab6",
   "metadata": {},
   "outputs": [],
   "source": [
    "# Ganti path sesuai lokasi file\n",
    "file_path = 'Lembang_Merged_Timeseries.csv'\n",
    "df = pd.read_csv(file_path)\n",
    "df['date'] = pd.to_datetime(df['date'])\n",
    "df['month'] = df['date'].dt.to_period('M').dt.to_timestamp()\n",
    "\n",
    "df.sort_values(by=['lat', 'lon', 'month'], inplace=True)\n",
    "df.reset_index(drop=True, inplace=True)\n",
    "df.head()"
   ]
  },
  {
   "cell_type": "code",
   "execution_count": null,
   "id": "a39bcabd",
   "metadata": {},
   "outputs": [],
   "source": [
    "# Fungsi untuk menghitung SPI per lokasi\n",
    "\n",
    "def calculate_spi(group):\n",
    "    group = group.sort_values('month').copy()\n",
    "    \n",
    "    mu = group['CHIRPS'].mean()\n",
    "    sigma = group['CHIRPS'].std()\n",
    "    group['SPI_1'] = (group['CHIRPS'] - mu) / sigma\n",
    "\n",
    "    group['CHIRPS_3mo'] = group['CHIRPS'].rolling(window=3, min_periods=3).mean()\n",
    "    group['SPI_3'] = (group['CHIRPS_3mo'] - mu) / sigma\n",
    "\n",
    "    return group"
   ]
  },
  {
   "cell_type": "code",
   "execution_count": null,
   "id": "631a6cba",
   "metadata": {},
   "outputs": [],
   "source": [
    "# Hitung SPI per titik koordinat\n",
    "spi_result = df.groupby(['lat', 'lon'], group_keys=False).apply(calculate_spi)\n",
    "spi_result.drop(columns='CHIRPS_3mo', inplace=True)\n",
    "spi_result.head()"
   ]
  },
  {
   "cell_type": "code",
   "execution_count": null,
   "id": "34cbe205",
   "metadata": {},
   "outputs": [],
   "source": [
    "# Simpan hasil ke CSV\n",
    "output_path = 'Lembang_Merged_SPI_Reconstructed.csv'\n",
    "spi_result.to_csv(output_path, index=False)\n",
    "print(f'Hasil disimpan ke {output_path}')"
   ]
  }
 ],
 "metadata": {},
 "nbformat": 4,
 "nbformat_minor": 5
}
