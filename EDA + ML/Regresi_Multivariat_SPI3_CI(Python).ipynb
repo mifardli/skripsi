{
 "cells": [
  {
   "cell_type": "markdown",
   "id": "6fbc6d29",
   "metadata": {},
   "source": [
    "# Analisis Regresi Multivariat\n",
    "Analisis regresi multivariat antara SPI_3 sebagai variabel dependen dan CHIRPS, LST, NDVI sebagai variabel independen."
   ]
  },
  {
   "cell_type": "code",
   "execution_count": null,
   "id": "b539a89f",
   "metadata": {},
   "outputs": [],
   "source": [
    "import pandas as pd\n",
    "import statsmodels.api as sm\n",
    "import matplotlib.pyplot as plt\n",
    "import seaborn as sns"
   ]
  },
  {
   "cell_type": "code",
   "execution_count": null,
   "id": "382ec928",
   "metadata": {},
   "outputs": [],
   "source": [
    "df = pd.read_csv('Lembang_Merged_SPI.csv')\n",
    "df = df.dropna(subset=['SPI_3', 'CHIRPS', 'LST', 'NDVI'])"
   ]
  },
  {
   "cell_type": "code",
   "execution_count": null,
   "id": "5d029148",
   "metadata": {},
   "outputs": [],
   "source": [
    "df.describe()"
   ]
  },
  {
   "cell_type": "code",
   "execution_count": null,
   "id": "dc5656a2",
   "metadata": {},
   "outputs": [],
   "source": [
    "X = df[['CHIRPS', 'LST', 'NDVI']]\n",
    "y = df['SPI_3']\n",
    "X = sm.add_constant(X)\n",
    "model = sm.OLS(y, X).fit()\n",
    "print(model.summary())"
   ]
  },
  {
   "cell_type": "code",
   "execution_count": null,
   "id": "59af1a1f",
   "metadata": {},
   "outputs": [],
   "source": [
    "df['residual'] = model.resid\n",
    "sns.scatterplot(x=model.fittedvalues, y=model.resid)\n",
    "plt.axhline(0, color='red', linestyle='--')\n",
    "plt.xlabel('Predicted SPI_3')\n",
    "plt.ylabel('Residuals')\n",
    "plt.title('Residual Plot')\n",
    "plt.show()"
   ]
  },
  {
   "cell_type": "code",
   "execution_count": null,
   "id": "0ad90765",
   "metadata": {},
   "outputs": [],
   "source": [
    "conf_int = model.conf_int(alpha=0.05)\n",
    "summary_df = pd.DataFrame({\n",
    "    'Coef': model.params,\n",
    "    'StdErr': model.bse,\n",
    "    't': model.tvalues,\n",
    "    'P>|t|': model.pvalues,\n",
    "    '95% CI Lower': conf_int[0],\n",
    "    '95% CI Upper': conf_int[1]\n",
    "})\n",
    "summary_df.to_csv('Regresi_Multivariat_Hasil_CI.csv')\n",
    "summary_df"
   ]
  }
 ],
 "metadata": {},
 "nbformat": 4,
 "nbformat_minor": 5
}
