{
 "cells": [
  {
   "cell_type": "markdown",
   "id": "9aadfe8a",
   "metadata": {},
   "source": [
    "# Pra-pemrosesan Data Satelit (NDVI, LST, CHIRPS)\n",
    "\n",
    "Notebook ini berisi langkah-langkah penggabungan data NDVI, LST, dan CHIRPS menjadi satu file time series gabungan dengan format kolom: `date`, `lon`, `lat`, `LST`, `NDVI`, `CHIRPS`. File akhir bernama `Lembang_Merged_Timeseries.csv`."
   ]
  },
  {
   "cell_type": "code",
   "execution_count": null,
   "id": "ed5c8c02",
   "metadata": {},
   "outputs": [],
   "source": [
    "import pandas as pd"
   ]
  },
  {
   "cell_type": "code",
   "execution_count": null,
   "id": "4a64e741",
   "metadata": {},
   "outputs": [],
   "source": [
    "# Load masing-masing file CSV\n",
    "ndvi = pd.read_csv('NDVI_Monthly_Lembang_Samples_From_L8_Start.csv')\n",
    "lst = pd.read_csv('LST_Monthly_Lembang_Samples_From_L8_Start.csv')\n",
    "chirps = pd.read_csv('CHIRPS_Monthly_Lembang_Samples.csv')"
   ]
  },
  {
   "cell_type": "code",
   "execution_count": null,
   "id": "84d50278",
   "metadata": {},
   "outputs": [],
   "source": [
    "# Ekstrak koordinat dari kolom .geo\n",
    "import ast\n",
    "\n",
    "def extract_lon_lat(geo_str):\n",
    "    coord = ast.literal_eval(geo_str)['coordinates']\n",
    "    return pd.Series({'lon': coord[0], 'lat': coord[1]})\n",
    "\n",
    "ndvi[['lon', 'lat']] = ndvi['.geo'].apply(extract_lon_lat)\n",
    "lst[['lon', 'lat']] = lst['.geo'].apply(extract_lon_lat)\n",
    "chirps[['lon', 'lat']] = chirps['.geo'].apply(extract_lon_lat)"
   ]
  },
  {
   "cell_type": "code",
   "execution_count": null,
   "id": "3c2632f7",
   "metadata": {},
   "outputs": [],
   "source": [
    "# Gabungkan dataframe berdasarkan date, lon, lat\n",
    "ndvi = ndvi[['date', 'lon', 'lat', 'NDVI']]\n",
    "lst = lst[['date', 'lon', 'lat', 'LST_C']]\n",
    "chirps = chirps[['date', 'lon', 'lat', 'CHIRPS_mm']]\n",
    "\n",
    "# Gabungkan bertahap\n",
    "merged = pd.merge(ndvi, lst, on=['date', 'lon', 'lat'])\n",
    "merged = pd.merge(merged, chirps, on=['date', 'lon', 'lat'])"
   ]
  },
  {
   "cell_type": "code",
   "execution_count": null,
   "id": "e8fa57c3",
   "metadata": {},
   "outputs": [],
   "source": [
    "# Rename kolom\n",
    "merged = merged.rename(columns={'LST_C': 'LST', 'CHIRPS_mm': 'CHIRPS'})"
   ]
  },
  {
   "cell_type": "code",
   "execution_count": null,
   "id": "193c95eb",
   "metadata": {},
   "outputs": [],
   "source": [
    "# Simpan ke CSV\n",
    "merged.to_csv('Lembang_Merged_Timeseries.csv', index=False)\n",
    "merged.head()"
   ]
  }
 ],
 "metadata": {},
 "nbformat": 4,
 "nbformat_minor": 5
}
