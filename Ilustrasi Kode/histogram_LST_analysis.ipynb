{
 "cells": [
  {
   "cell_type": "code",
   "execution_count": null,
   "id": "dfc6e69a",
   "metadata": {},
   "outputs": [],
   "source": [
    "# Import libraries\n",
    "import pandas as pd\n",
    "import matplotlib.pyplot as plt\n",
    "import seaborn as sns\n",
    "from scipy.stats import skew"
   ]
  },
  {
   "cell_type": "code",
   "execution_count": null,
   "id": "890d95c2",
   "metadata": {},
   "outputs": [],
   "source": [
    "# Load data\n",
    "df = pd.read_csv('Lembang_Merged_SPI_CLEANED.csv')"
   ]
  },
  {
   "cell_type": "code",
   "execution_count": null,
   "id": "3a6d5d83",
   "metadata": {},
   "outputs": [],
   "source": [
    "# Plot histogram LST\n",
    "plt.figure(figsize=(10, 6))\n",
    "sns.histplot(df['LST'], bins=200, color='#B80300', kde=True, stat='count', edgecolor='#B80300', linewidth=0.1)\n",
    "plt.xlabel('LST')\n",
    "plt.ylabel('Frekuensi')\n",
    "plt.grid(True)\n",
    "plt.tight_layout()\n",
    "plt.show()"
   ]
  },
  {
   "cell_type": "code",
   "execution_count": null,
   "id": "f3b235dc",
   "metadata": {},
   "outputs": [],
   "source": [
    "# Hitung skewness\n",
    "lst_skewness = skew(df['LST'].dropna())\n",
    "print('Skewness LST:', lst_skewness)"
   ]
  }
 ],
 "metadata": {
  "language": "python"
 },
 "nbformat": 4,
 "nbformat_minor": 5
}
