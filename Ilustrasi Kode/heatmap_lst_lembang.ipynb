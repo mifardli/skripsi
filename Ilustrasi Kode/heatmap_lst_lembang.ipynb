{
 "cells": [
  {
   "cell_type": "markdown",
   "id": "e7d7091c",
   "metadata": {},
   "source": [
    "# Heatmap LST Wilayah Lembang\n",
    "Visualisasi spasial suhu permukaan tanah (LST) berdasarkan data rata-rata per titik dalam batas wilayah Lembang."
   ]
  },
  {
   "cell_type": "code",
   "execution_count": null,
   "id": "65250dad",
   "metadata": {},
   "outputs": [],
   "source": [
    "\n",
    "import pandas as pd\n",
    "import numpy as np\n",
    "import matplotlib.pyplot as plt\n",
    "from scipy.interpolate import griddata\n",
    "import matplotlib.path as mpath\n"
   ]
  },
  {
   "cell_type": "markdown",
   "id": "a6a32548",
   "metadata": {},
   "source": [
    "## 1. Load Data"
   ]
  },
  {
   "cell_type": "code",
   "execution_count": null,
   "id": "be530ea6",
   "metadata": {},
   "outputs": [],
   "source": [
    "\n",
    "# Load data utama dan batas wilayah\n",
    "df = pd.read_csv(\"Lembang_Merged_SPI_CLEANED.csv\")\n",
    "boundary_df = pd.read_csv(\"Koordinat_Polygon_Lembang.csv\")\n"
   ]
  },
  {
   "cell_type": "markdown",
   "id": "0bc48d6f",
   "metadata": {},
   "source": [
    "## 2. Hitung Rata-rata LST dan Filter Suhu Valid"
   ]
  },
  {
   "cell_type": "code",
   "execution_count": null,
   "id": "90921efb",
   "metadata": {},
   "outputs": [],
   "source": [
    "\n",
    "df[\"location\"] = df[\"lat\"].round(4).astype(str) + \", \" + df[\"lon\"].round(4).astype(str)\n",
    "avg_lst = df.groupby([\"lat\", \"lon\"])[\"LST\"].mean().reset_index()\n",
    "avg_lst = avg_lst[(avg_lst[\"LST\"] >= 5) & (avg_lst[\"LST\"] <= 50)]\n"
   ]
  },
  {
   "cell_type": "markdown",
   "id": "0f46cb91",
   "metadata": {},
   "source": [
    "## 3. Interpolasi Grid dan Masking ke Batas Wilayah"
   ]
  },
  {
   "cell_type": "code",
   "execution_count": null,
   "id": "d2e9aabb",
   "metadata": {},
   "outputs": [],
   "source": [
    "\n",
    "# Interpolasi grid\n",
    "grid_lon = np.linspace(avg_lst[\"lon\"].min(), avg_lst[\"lon\"].max(), 300)\n",
    "grid_lat = np.linspace(avg_lst[\"lat\"].min(), avg_lst[\"lat\"].max(), 300)\n",
    "grid_lon, grid_lat = np.meshgrid(grid_lon, grid_lat)\n",
    "grid_z = griddata((avg_lst[\"lon\"], avg_lst[\"lat\"]), avg_lst[\"LST\"], (grid_lon, grid_lat), method='linear')\n",
    "\n",
    "# Masking polygon\n",
    "boundary_coords = boundary_df[['lon', 'lat']].values\n",
    "polygon_path = mpath.Path(boundary_coords)\n",
    "points = np.vstack((grid_lon.flatten(), grid_lat.flatten())).T\n",
    "mask = polygon_path.contains_points(points).reshape(grid_lon.shape)\n",
    "masked_grid_z = np.where(mask, grid_z, np.nan)\n"
   ]
  },
  {
   "cell_type": "markdown",
   "id": "ba8ff2f6",
   "metadata": {},
   "source": [
    "## 4. Plot Heatmap LST dengan Grid dan Batas Wilayah"
   ]
  },
  {
   "cell_type": "code",
   "execution_count": null,
   "id": "b9969df2",
   "metadata": {},
   "outputs": [],
   "source": [
    "\n",
    "plt.figure(figsize=(10, 10))\n",
    "plt.contourf(grid_lon, grid_lat, masked_grid_z, levels=100, cmap=\"plasma\", alpha=0.9)\n",
    "cbar = plt.colorbar(label=\"LST (°C)\")\n",
    "plt.contour(grid_lon, grid_lat, masked_grid_z, levels=15, linewidths=0.4, colors='black', alpha=0.3)\n",
    "plt.plot(boundary_coords[:, 0], boundary_coords[:, 1], color=\"white\", linewidth=1.5)\n",
    "plt.grid(True, which='major', linestyle='--', linewidth=0.5, alpha=0.4)\n",
    "plt.xlabel(\"Longitude\", fontsize=11)\n",
    "plt.ylabel(\"Latitude\", fontsize=11)\n",
    "plt.title(\"Heatmap LST (5°C–50°C) dengan Grid Wilayah Lembang\", fontsize=13)\n",
    "plt.gca().set_facecolor(\"white\")\n",
    "plt.axis(\"equal\")\n",
    "plt.tight_layout()\n",
    "plt.show()\n"
   ]
  }
 ],
 "metadata": {},
 "nbformat": 4,
 "nbformat_minor": 5
}