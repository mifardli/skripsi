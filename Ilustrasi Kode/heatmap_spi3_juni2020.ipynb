{
 "cells": [
  {
   "cell_type": "markdown",
   "id": "8b18d56d",
   "metadata": {},
   "source": [
    "# Heatmap SPI-3 Wilayah Lembang – Juni 2020 (dengan Label Min/Max)\n",
    "Visualisasi spasial indeks kekeringan SPI-3 berdasarkan data bulan Juni 2020 di wilayah Lembang."
   ]
  },
  {
   "cell_type": "code",
   "execution_count": null,
   "id": "4c77bc58",
   "metadata": {},
   "outputs": [],
   "source": [
    "\n",
    "import pandas as pd\n",
    "import numpy as np\n",
    "import matplotlib.pyplot as plt\n",
    "from scipy.interpolate import griddata\n",
    "import matplotlib.path as mpath\n"
   ]
  },
  {
   "cell_type": "markdown",
   "id": "d24825a8",
   "metadata": {},
   "source": [
    "## 1. Load Data"
   ]
  },
  {
   "cell_type": "code",
   "execution_count": null,
   "id": "cb06c6d8",
   "metadata": {},
   "outputs": [],
   "source": [
    "\n",
    "df = pd.read_csv(\"Lembang_Merged_SPI_CLEANED.csv\")\n",
    "boundary_df = pd.read_csv(\"Koordinat_Polygon_Lembang.csv\")\n"
   ]
  },
  {
   "cell_type": "markdown",
   "id": "e1882518",
   "metadata": {},
   "source": [
    "## 2. Filter Data SPI-3 Bulan Juni 2020"
   ]
  },
  {
   "cell_type": "code",
   "execution_count": null,
   "id": "8f71cd98",
   "metadata": {},
   "outputs": [],
   "source": [
    "\n",
    "df[\"date\"] = pd.to_datetime(df[\"date\"])\n",
    "spi3_jun = df[df[\"date\"] == \"2020-06-01\"]\n",
    "spi3_jun = spi3_jun.groupby([\"lat\", \"lon\"])[\"SPI_3\"].mean().reset_index()\n"
   ]
  },
  {
   "cell_type": "markdown",
   "id": "7b7eecb7",
   "metadata": {},
   "source": [
    "## 3. Interpolasi dan Masking Wilayah"
   ]
  },
  {
   "cell_type": "code",
   "execution_count": null,
   "id": "dea4f534",
   "metadata": {},
   "outputs": [],
   "source": [
    "\n",
    "grid_lon = np.linspace(spi3_jun[\"lon\"].min(), spi3_jun[\"lon\"].max(), 300)\n",
    "grid_lat = np.linspace(spi3_jun[\"lat\"].min(), spi3_jun[\"lat\"].max(), 300)\n",
    "grid_lon, grid_lat = np.meshgrid(grid_lon, grid_lat)\n",
    "grid_z = griddata((spi3_jun[\"lon\"], spi3_jun[\"lat\"]), spi3_jun[\"SPI_3\"], (grid_lon, grid_lat), method='linear')\n",
    "\n",
    "boundary_coords = boundary_df[['lon', 'lat']].values\n",
    "polygon_path = mpath.Path(boundary_coords)\n",
    "points = np.vstack((grid_lon.flatten(), grid_lat.flatten())).T\n",
    "mask = polygon_path.contains_points(points).reshape(grid_lon.shape)\n",
    "masked_grid_z = np.where(mask, grid_z, np.nan)\n"
   ]
  },
  {
   "cell_type": "markdown",
   "id": "eacff28e",
   "metadata": {},
   "source": [
    "## 4. Visualisasi Heatmap SPI-3 dengan Titik Min/Max"
   ]
  },
  {
   "cell_type": "code",
   "execution_count": null,
   "id": "65e4e333",
   "metadata": {},
   "outputs": [],
   "source": [
    "\n",
    "min_spi3_val = spi3_jun[\"SPI_3\"].min()\n",
    "max_spi3_val = spi3_jun[\"SPI_3\"].max()\n",
    "min_spi3_loc = spi3_jun[spi3_jun[\"SPI_3\"] == min_spi3_val][[\"lon\", \"lat\"]].values[0]\n",
    "max_spi3_loc = spi3_jun[spi3_jun[\"SPI_3\"] == max_spi3_val][[\"lon\", \"lat\"]].values[0]\n",
    "\n",
    "plt.figure(figsize=(10, 10))\n",
    "contour = plt.contourf(\n",
    "    grid_lon, grid_lat, masked_grid_z,\n",
    "    levels=100, cmap=\"RdYlBu_r\", alpha=0.95\n",
    ")\n",
    "plt.colorbar(contour, label=\"SPI-3\")\n",
    "plt.contour(grid_lon, grid_lat, masked_grid_z, levels=15, linewidths=0.4, colors='black', alpha=0.3)\n",
    "plt.plot(boundary_coords[:, 0], boundary_coords[:, 1], color=\"white\", linewidth=1.5)\n",
    "\n",
    "# Anotasi titik minimum dan maksimum\n",
    "plt.plot(*min_spi3_loc, marker='o', color='black')\n",
    "plt.text(min_spi3_loc[0], min_spi3_loc[1], f\"Min: {min_spi3_val:.2f}\", fontsize=10, ha='right', va='bottom', color='black')\n",
    "\n",
    "plt.plot(*max_spi3_loc, marker='o', color='black')\n",
    "plt.text(max_spi3_loc[0], max_spi3_loc[1], f\"Max: {max_spi3_val:.2f}\", fontsize=10, ha='left', va='top', color='black')\n",
    "\n",
    "plt.grid(True, which='major', linestyle='--', linewidth=0.5, alpha=0.4)\n",
    "plt.xlabel(\"Longitude\")\n",
    "plt.ylabel(\"Latitude\")\n",
    "plt.title(\"Heatmap SPI-3 – Bulan Juni 2020 (dengan Label Min/Max)\", fontsize=13)\n",
    "plt.gca().set_facecolor(\"white\")\n",
    "plt.axis(\"equal\")\n",
    "plt.tight_layout()\n",
    "plt.show()\n"
   ]
  }
 ],
 "metadata": {},
 "nbformat": 4,
 "nbformat_minor": 5
}