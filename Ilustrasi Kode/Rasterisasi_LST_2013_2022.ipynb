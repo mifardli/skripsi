{
 "cells": [
  {
   "cell_type": "markdown",
   "id": "3d6738b6",
   "metadata": {},
   "source": [
    "# Rasterisasi Rata-rata LST (2013–2022)\n",
    "Notebook ini menghitung rata-rata Land Surface Temperature (LST) selama periode 2013–2022, menginterpolasinya menjadi raster, dan menyimpannya dalam format GeoTIFF (.tif)."
   ]
  },
  {
   "cell_type": "code",
   "execution_count": null,
   "id": "d66d519d",
   "metadata": {},
   "outputs": [],
   "source": [
    "import pandas as pd\n",
    "import numpy as np\n",
    "from scipy.interpolate import griddata\n",
    "import rasterio\n",
    "from rasterio.transform import from_bounds"
   ]
  },
  {
   "cell_type": "code",
   "execution_count": null,
   "id": "7a449ea2",
   "metadata": {},
   "outputs": [],
   "source": [
    "# Asumsikan dataframe df sudah dimuat sebelumnya\n",
    "df_avg_LST_all = df.groupby(['lon', 'lat'])['LST'].mean().reset_index()"
   ]
  },
  {
   "cell_type": "code",
   "execution_count": null,
   "id": "0df2e1e6",
   "metadata": {},
   "outputs": [],
   "source": [
    "def save_overall_avg_to_tif(df, variable, filename='LST_2013_2022_Mean.tif', n_pixels=200):\n",
    "    lon = df['lon'].values\n",
    "    lat = df['lat'].values\n",
    "    values = df[variable].values\n",
    "    points = np.column_stack((lon, lat))\n",
    "\n",
    "    # Bounding box\n",
    "    min_lon, max_lon = lon.min(), lon.max()\n",
    "    min_lat, max_lat = lat.min(), lat.max()\n",
    "\n",
    "    # Buat grid\n",
    "    grid_x, grid_y = np.mgrid[\n",
    "        min_lon:max_lon:complex(n_pixels),\n",
    "        min_lat:max_lat:complex(n_pixels)\n",
    "    ]\n",
    "\n",
    "    # Interpolasi nilai\n",
    "    grid_z = griddata(points, values, (grid_x, grid_y), method='cubic')\n",
    "\n",
    "    # Transformasi raster\n",
    "    transform = from_bounds(min_lon, min_lat, max_lon, max_lat, n_pixels, n_pixels)\n",
    "\n",
    "    # Simpan ke GeoTIFF\n",
    "    with rasterio.open(\n",
    "        filename, 'w',\n",
    "        driver='GTiff',\n",
    "        height=grid_z.shape[1],\n",
    "        width=grid_z.shape[0],\n",
    "        count=1,\n",
    "        dtype='float32',\n",
    "        crs='EPSG:4326',\n",
    "        transform=transform,\n",
    "    ) as dst:\n",
    "        dst.write(grid_z.T.astype('float32'), 1)"
   ]
  },
  {
   "cell_type": "code",
   "execution_count": null,
   "id": "e1a83aa2",
   "metadata": {},
   "outputs": [],
   "source": [
    "# Simpan raster rata-rata LST seluruh periode\n",
    "save_overall_avg_to_tif(df_avg_LST_all, variable='LST', filename='LST_2013_2022_Mean.tif')"
   ]
  }
 ],
 "metadata": {},
 "nbformat": 4,
 "nbformat_minor": 5
}
