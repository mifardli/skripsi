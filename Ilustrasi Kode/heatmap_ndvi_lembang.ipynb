{
 "cells": [
  {
   "cell_type": "markdown",
   "id": "908a4abe",
   "metadata": {},
   "source": [
    "# Heatmap NDVI Wilayah Lembang\n",
    "Visualisasi spasial indeks kehijauan vegetasi (NDVI) berdasarkan data rata-rata per titik dalam batas wilayah Lembang."
   ]
  },
  {
   "cell_type": "code",
   "execution_count": null,
   "id": "8927be88",
   "metadata": {},
   "outputs": [],
   "source": [
    "\n",
    "import pandas as pd\n",
    "import numpy as np\n",
    "import matplotlib.pyplot as plt\n",
    "from scipy.interpolate import griddata\n",
    "import matplotlib.path as mpath\n"
   ]
  },
  {
   "cell_type": "markdown",
   "id": "ea9e869b",
   "metadata": {},
   "source": [
    "## 1. Load Data"
   ]
  },
  {
   "cell_type": "code",
   "execution_count": null,
   "id": "896e3b3c",
   "metadata": {},
   "outputs": [],
   "source": [
    "\n",
    "df = pd.read_csv(\"Lembang_Merged_SPI_CLEANED.csv\")\n",
    "boundary_df = pd.read_csv(\"Koordinat_Polygon_Lembang.csv\")\n"
   ]
  },
  {
   "cell_type": "markdown",
   "id": "24f9fdca",
   "metadata": {},
   "source": [
    "## 2. Hitung Rata-rata NDVI dan Filter Nilai Valid"
   ]
  },
  {
   "cell_type": "code",
   "execution_count": null,
   "id": "ef9fa069",
   "metadata": {},
   "outputs": [],
   "source": [
    "\n",
    "avg_ndvi = df.groupby([\"lat\", \"lon\"])[\"NDVI\"].mean().reset_index()\n",
    "avg_ndvi = avg_ndvi[(avg_ndvi[\"NDVI\"] >= -1) & (avg_ndvi[\"NDVI\"] <= 1)]\n"
   ]
  },
  {
   "cell_type": "markdown",
   "id": "9136c33f",
   "metadata": {},
   "source": [
    "## 3. Interpolasi Grid dan Masking ke Batas Wilayah"
   ]
  },
  {
   "cell_type": "code",
   "execution_count": null,
   "id": "fb7440f0",
   "metadata": {},
   "outputs": [],
   "source": [
    "\n",
    "grid_lon = np.linspace(avg_ndvi[\"lon\"].min(), avg_ndvi[\"lon\"].max(), 300)\n",
    "grid_lat = np.linspace(avg_ndvi[\"lat\"].min(), avg_ndvi[\"lat\"].max(), 300)\n",
    "grid_lon, grid_lat = np.meshgrid(grid_lon, grid_lat)\n",
    "grid_z = griddata((avg_ndvi[\"lon\"], avg_ndvi[\"lat\"]), avg_ndvi[\"NDVI\"], (grid_lon, grid_lat), method='linear')\n",
    "\n",
    "boundary_coords = boundary_df[['lon', 'lat']].values\n",
    "polygon_path = mpath.Path(boundary_coords)\n",
    "points = np.vstack((grid_lon.flatten(), grid_lat.flatten())).T\n",
    "mask = polygon_path.contains_points(points).reshape(grid_lon.shape)\n",
    "masked_grid_z = np.where(mask, grid_z, np.nan)\n"
   ]
  },
  {
   "cell_type": "markdown",
   "id": "6608a3f6",
   "metadata": {},
   "source": [
    "## 4. Plot Heatmap NDVI"
   ]
  },
  {
   "cell_type": "code",
   "execution_count": null,
   "id": "ec442269",
   "metadata": {},
   "outputs": [],
   "source": [
    "\n",
    "plt.figure(figsize=(10, 10))\n",
    "plt.contourf(grid_lon, grid_lat, masked_grid_z, levels=100, cmap=\"YlGn\", alpha=0.9)\n",
    "plt.colorbar(label=\"NDVI\")\n",
    "plt.contour(grid_lon, grid_lat, masked_grid_z, levels=15, linewidths=0.4, colors='black', alpha=0.3)\n",
    "plt.plot(boundary_coords[:, 0], boundary_coords[:, 1], color=\"white\", linewidth=1.5)\n",
    "plt.grid(True, which='major', linestyle='--', linewidth=0.5, alpha=0.4)\n",
    "plt.xlabel(\"Longitude\")\n",
    "plt.ylabel(\"Latitude\")\n",
    "plt.title(\"Heatmap NDVI (Rata-rata Sepanjang Waktu) Wilayah Lembang\")\n",
    "plt.gca().set_facecolor(\"white\")\n",
    "plt.axis(\"equal\")\n",
    "plt.tight_layout()\n",
    "plt.show()\n"
   ]
  }
 ],
 "metadata": {},
 "nbformat": 4,
 "nbformat_minor": 5
}