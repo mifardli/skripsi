{
 "cells": [
  {
   "cell_type": "markdown",
   "id": "5d70866e",
   "metadata": {},
   "source": [
    "# Heatmap CHIRPS Wilayah Lembang – Juni 2020\n",
    "Visualisasi spasial curah hujan berdasarkan data CHIRPS pada bulan Juni 2020 di wilayah Lembang."
   ]
  },
  {
   "cell_type": "code",
   "execution_count": null,
   "id": "b459276e",
   "metadata": {},
   "outputs": [],
   "source": [
    "\n",
    "import pandas as pd\n",
    "import numpy as np\n",
    "import matplotlib.pyplot as plt\n",
    "from scipy.interpolate import griddata\n",
    "import matplotlib.path as mpath\n"
   ]
  },
  {
   "cell_type": "markdown",
   "id": "1f2ac4c6",
   "metadata": {},
   "source": [
    "## 1. Load Data"
   ]
  },
  {
   "cell_type": "code",
   "execution_count": null,
   "id": "be6171da",
   "metadata": {},
   "outputs": [],
   "source": [
    "\n",
    "df = pd.read_csv(\"Lembang_Merged_SPI_CLEANED.csv\")\n",
    "boundary_df = pd.read_csv(\"Koordinat_Polygon_Lembang.csv\")\n"
   ]
  },
  {
   "cell_type": "markdown",
   "id": "7e814f5d",
   "metadata": {},
   "source": [
    "## 2. Filter Data CHIRPS Bulan Juni 2020 dan Validasi Nilai"
   ]
  },
  {
   "cell_type": "code",
   "execution_count": null,
   "id": "9c340a87",
   "metadata": {},
   "outputs": [],
   "source": [
    "\n",
    "df[\"date\"] = pd.to_datetime(df[\"date\"])\n",
    "df_jun2020 = df[df[\"date\"] == \"2020-06-01\"]\n",
    "chirps_jun = df_jun2020.groupby([\"lat\", \"lon\"])[\"CHIRPS\"].mean().reset_index()\n",
    "chirps_jun = chirps_jun[(chirps_jun[\"CHIRPS\"] >= 0) & (chirps_jun[\"CHIRPS\"] <= 1000)]\n"
   ]
  },
  {
   "cell_type": "markdown",
   "id": "4acf1a38",
   "metadata": {},
   "source": [
    "## 3. Interpolasi dan Masking Batas Wilayah"
   ]
  },
  {
   "cell_type": "code",
   "execution_count": null,
   "id": "500a00c4",
   "metadata": {},
   "outputs": [],
   "source": [
    "\n",
    "grid_lon = np.linspace(chirps_jun[\"lon\"].min(), chirps_jun[\"lon\"].max(), 300)\n",
    "grid_lat = np.linspace(chirps_jun[\"lat\"].min(), chirps_jun[\"lat\"].max(), 300)\n",
    "grid_lon, grid_lat = np.meshgrid(grid_lon, grid_lat)\n",
    "grid_z = griddata((chirps_jun[\"lon\"], chirps_jun[\"lat\"]), chirps_jun[\"CHIRPS\"], (grid_lon, grid_lat), method='linear')\n",
    "\n",
    "boundary_coords = boundary_df[['lon', 'lat']].values\n",
    "polygon_path = mpath.Path(boundary_coords)\n",
    "points = np.vstack((grid_lon.flatten(), grid_lat.flatten())).T\n",
    "mask = polygon_path.contains_points(points).reshape(grid_lon.shape)\n",
    "masked_grid_z = np.where(mask, grid_z, np.nan)\n"
   ]
  },
  {
   "cell_type": "markdown",
   "id": "d47c9c5e",
   "metadata": {},
   "source": [
    "## 4. Visualisasi Heatmap CHIRPS"
   ]
  },
  {
   "cell_type": "code",
   "execution_count": null,
   "id": "6d33c6c7",
   "metadata": {},
   "outputs": [],
   "source": [
    "\n",
    "min_chirps = chirps_jun[\"CHIRPS\"].min()\n",
    "max_chirps = chirps_jun[\"CHIRPS\"].max()\n",
    "\n",
    "plt.figure(figsize=(10, 10))\n",
    "contour = plt.contourf(\n",
    "    grid_lon, grid_lat, masked_grid_z,\n",
    "    levels=np.linspace(min_chirps, max_chirps, 100),\n",
    "    cmap=\"YlGnBu\", alpha=0.95\n",
    ")\n",
    "plt.colorbar(contour, label=\"Curah Hujan (mm)\")\n",
    "plt.contour(grid_lon, grid_lat, masked_grid_z, levels=10, linewidths=0.4, colors='black', alpha=0.3)\n",
    "plt.plot(boundary_coords[:, 0], boundary_coords[:, 1], color=\"white\", linewidth=1.5)\n",
    "plt.grid(True, which='major', linestyle='--', linewidth=0.5, alpha=0.4)\n",
    "plt.xlabel(\"Longitude\")\n",
    "plt.ylabel(\"Latitude\")\n",
    "plt.title(\"Heatmap CHIRPS – Curah Hujan Bulan Juni 2020 (Wilayah Lembang)\", fontsize=13)\n",
    "plt.gca().set_facecolor(\"white\")\n",
    "plt.axis(\"equal\")\n",
    "plt.tight_layout()\n",
    "plt.show()\n"
   ]
  }
 ],
 "metadata": {},
 "nbformat": 4,
 "nbformat_minor": 5
}