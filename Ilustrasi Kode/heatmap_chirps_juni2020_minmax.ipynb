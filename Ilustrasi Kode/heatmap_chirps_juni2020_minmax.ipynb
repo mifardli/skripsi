{
 "cells": [
  {
   "cell_type": "markdown",
   "id": "b549683f",
   "metadata": {},
   "source": [
    "# Heatmap CHIRPS Wilayah Lembang – Juni 2020 (dengan Titik Min/Max)\n",
    "Visualisasi spasial curah hujan (CHIRPS) bulan Juni 2020 di wilayah Lembang menggunakan interpolasi linier dan masking poligon."
   ]
  },
  {
   "cell_type": "code",
   "execution_count": null,
   "id": "c3db162f",
   "metadata": {},
   "outputs": [],
   "source": [
    "\n",
    "import pandas as pd\n",
    "import numpy as np\n",
    "import matplotlib.pyplot as plt\n",
    "from scipy.interpolate import griddata\n",
    "import matplotlib.path as mpath\n"
   ]
  },
  {
   "cell_type": "markdown",
   "id": "7be8a1e6",
   "metadata": {},
   "source": [
    "## 1. Load Data"
   ]
  },
  {
   "cell_type": "code",
   "execution_count": null,
   "id": "ed2edf6e",
   "metadata": {},
   "outputs": [],
   "source": [
    "\n",
    "df = pd.read_csv(\"Lembang_Merged_SPI_CLEANED.csv\")\n",
    "boundary_df = pd.read_csv(\"Koordinat_Polygon_Lembang.csv\")\n"
   ]
  },
  {
   "cell_type": "markdown",
   "id": "5409e771",
   "metadata": {},
   "source": [
    "## 2. Filter Data CHIRPS Bulan Juni 2020"
   ]
  },
  {
   "cell_type": "code",
   "execution_count": null,
   "id": "2814690f",
   "metadata": {},
   "outputs": [],
   "source": [
    "\n",
    "df[\"date\"] = pd.to_datetime(df[\"date\"])\n",
    "chirps_jun = df[df[\"date\"] == \"2020-06-01\"]\n",
    "chirps_jun = chirps_jun.groupby([\"lat\", \"lon\"])[\"CHIRPS\"].mean().reset_index()\n"
   ]
  },
  {
   "cell_type": "markdown",
   "id": "6ee393b5",
   "metadata": {},
   "source": [
    "## 3. Interpolasi dan Masking Wilayah"
   ]
  },
  {
   "cell_type": "code",
   "execution_count": null,
   "id": "a76f4444",
   "metadata": {},
   "outputs": [],
   "source": [
    "\n",
    "grid_lon = np.linspace(chirps_jun[\"lon\"].min(), chirps_jun[\"lon\"].max(), 300)\n",
    "grid_lat = np.linspace(chirps_jun[\"lat\"].min(), chirps_jun[\"lat\"].max(), 300)\n",
    "grid_lon, grid_lat = np.meshgrid(grid_lon, grid_lat)\n",
    "grid_z = griddata((chirps_jun[\"lon\"], chirps_jun[\"lat\"]), chirps_jun[\"CHIRPS\"], (grid_lon, grid_lat), method='linear')\n",
    "\n",
    "boundary_coords = boundary_df[['lon', 'lat']].values\n",
    "polygon_path = mpath.Path(boundary_coords)\n",
    "points = np.vstack((grid_lon.flatten(), grid_lat.flatten())).T\n",
    "mask = polygon_path.contains_points(points).reshape(grid_lon.shape)\n",
    "masked_grid_z = np.where(mask, grid_z, np.nan)\n"
   ]
  },
  {
   "cell_type": "markdown",
   "id": "b2462e86",
   "metadata": {},
   "source": [
    "## 4. Visualisasi Heatmap CHIRPS dengan Titik Min/Max"
   ]
  },
  {
   "cell_type": "code",
   "execution_count": null,
   "id": "656457ae",
   "metadata": {},
   "outputs": [],
   "source": [
    "\n",
    "min_val = chirps_jun[\"CHIRPS\"].min()\n",
    "max_val = chirps_jun[\"CHIRPS\"].max()\n",
    "min_loc = chirps_jun[chirps_jun[\"CHIRPS\"] == min_val][[\"lon\", \"lat\"]].values[0]\n",
    "max_loc = chirps_jun[chirps_jun[\"CHIRPS\"] == max_val][[\"lon\", \"lat\"]].values[0]\n",
    "\n",
    "plt.figure(figsize=(10, 10))\n",
    "contour = plt.contourf(\n",
    "    grid_lon, grid_lat, masked_grid_z,\n",
    "    levels=100, cmap=\"YlGnBu\", alpha=0.95\n",
    ")\n",
    "plt.colorbar(contour, label=\"CHIRPS (mm)\")\n",
    "plt.contour(grid_lon, grid_lat, masked_grid_z, levels=15, linewidths=0.4, colors='black', alpha=0.3)\n",
    "plt.plot(boundary_coords[:, 0], boundary_coords[:, 1], color=\"white\", linewidth=1.5)\n",
    "\n",
    "plt.plot(*min_loc, marker='o', color='black')\n",
    "plt.text(min_loc[0], min_loc[1], f\"Min: {min_val:.2f}\", fontsize=10, ha='right', va='bottom', color='black')\n",
    "\n",
    "plt.plot(*max_loc, marker='o', color='black')\n",
    "plt.text(max_loc[0], max_loc[1], f\"Max: {max_val:.2f}\", fontsize=10, ha='left', va='top', color='black')\n",
    "\n",
    "plt.grid(True, which='major', linestyle='--', linewidth=0.5, alpha=0.4)\n",
    "plt.xlabel(\"Longitude\")\n",
    "plt.ylabel(\"Latitude\")\n",
    "plt.title(\"Peta Sebaran Interpolatif CHIRPS – Juni 2020 (dengan Titik Min/Max)\", fontsize=13)\n",
    "plt.gca().set_facecolor(\"white\")\n",
    "plt.axis(\"equal\")\n",
    "plt.tight_layout()\n",
    "plt.show()\n"
   ]
  }
 ],
 "metadata": {},
 "nbformat": 4,
 "nbformat_minor": 5
}