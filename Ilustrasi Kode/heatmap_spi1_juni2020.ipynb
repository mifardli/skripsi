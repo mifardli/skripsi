{
 "cells": [
  {
   "cell_type": "markdown",
   "id": "d4919785",
   "metadata": {},
   "source": [
    "# Heatmap SPI-1 Wilayah Lembang – Juni 2020 (dengan Label Min/Max)\n",
    "Visualisasi spasial indeks kekeringan SPI-1 berdasarkan data bulan Juni 2020 di wilayah Lembang."
   ]
  },
  {
   "cell_type": "code",
   "execution_count": null,
   "id": "2882647f",
   "metadata": {},
   "outputs": [],
   "source": [
    "\n",
    "import pandas as pd\n",
    "import numpy as np\n",
    "import matplotlib.pyplot as plt\n",
    "from scipy.interpolate import griddata\n",
    "import matplotlib.path as mpath\n"
   ]
  },
  {
   "cell_type": "markdown",
   "id": "9e105023",
   "metadata": {},
   "source": [
    "## 1. Load Data"
   ]
  },
  {
   "cell_type": "code",
   "execution_count": null,
   "id": "d67dc19e",
   "metadata": {},
   "outputs": [],
   "source": [
    "\n",
    "df = pd.read_csv(\"Lembang_Merged_SPI_CLEANED.csv\")\n",
    "boundary_df = pd.read_csv(\"Koordinat_Polygon_Lembang.csv\")\n"
   ]
  },
  {
   "cell_type": "markdown",
   "id": "4b03d0b4",
   "metadata": {},
   "source": [
    "## 2. Filter Data SPI-1 Bulan Juni 2020"
   ]
  },
  {
   "cell_type": "code",
   "execution_count": null,
   "id": "50b7ea39",
   "metadata": {},
   "outputs": [],
   "source": [
    "\n",
    "df[\"date\"] = pd.to_datetime(df[\"date\"])\n",
    "spi1_jun = df[df[\"date\"] == \"2020-06-01\"]\n",
    "spi1_jun = spi1_jun.groupby([\"lat\", \"lon\"])[\"SPI_1\"].mean().reset_index()\n"
   ]
  },
  {
   "cell_type": "markdown",
   "id": "9ea9a05d",
   "metadata": {},
   "source": [
    "## 3. Interpolasi dan Masking Wilayah"
   ]
  },
  {
   "cell_type": "code",
   "execution_count": null,
   "id": "40b9b8b3",
   "metadata": {},
   "outputs": [],
   "source": [
    "\n",
    "grid_lon = np.linspace(spi1_jun[\"lon\"].min(), spi1_jun[\"lon\"].max(), 300)\n",
    "grid_lat = np.linspace(spi1_jun[\"lat\"].min(), spi1_jun[\"lat\"].max(), 300)\n",
    "grid_lon, grid_lat = np.meshgrid(grid_lon, grid_lat)\n",
    "grid_z = griddata((spi1_jun[\"lon\"], spi1_jun[\"lat\"]), spi1_jun[\"SPI_1\"], (grid_lon, grid_lat), method='linear')\n",
    "\n",
    "boundary_coords = boundary_df[['lon', 'lat']].values\n",
    "polygon_path = mpath.Path(boundary_coords)\n",
    "points = np.vstack((grid_lon.flatten(), grid_lat.flatten())).T\n",
    "mask = polygon_path.contains_points(points).reshape(grid_lon.shape)\n",
    "masked_grid_z = np.where(mask, grid_z, np.nan)\n"
   ]
  },
  {
   "cell_type": "markdown",
   "id": "a3475e67",
   "metadata": {},
   "source": [
    "## 4. Visualisasi Heatmap SPI-1 dengan Titik Min/Max"
   ]
  },
  {
   "cell_type": "code",
   "execution_count": null,
   "id": "ecc12c28",
   "metadata": {},
   "outputs": [],
   "source": [
    "\n",
    "min_spi1_val = spi1_jun[\"SPI_1\"].min()\n",
    "max_spi1_val = spi1_jun[\"SPI_1\"].max()\n",
    "min_spi1_loc = spi1_jun[spi1_jun[\"SPI_1\"] == min_spi1_val][[\"lon\", \"lat\"]].values[0]\n",
    "max_spi1_loc = spi1_jun[spi1_jun[\"SPI_1\"] == max_spi1_val][[\"lon\", \"lat\"]].values[0]\n",
    "\n",
    "plt.figure(figsize=(10, 10))\n",
    "contour = plt.contourf(\n",
    "    grid_lon, grid_lat, masked_grid_z,\n",
    "    levels=100, cmap=\"RdYlBu_r\", alpha=0.95\n",
    ")\n",
    "plt.colorbar(contour, label=\"SPI-1\")\n",
    "plt.contour(grid_lon, grid_lat, masked_grid_z, levels=15, linewidths=0.4, colors='black', alpha=0.3)\n",
    "plt.plot(boundary_coords[:, 0], boundary_coords[:, 1], color=\"white\", linewidth=1.5)\n",
    "\n",
    "# Anotasi titik minimum dan maksimum\n",
    "plt.plot(*min_spi1_loc, marker='o', color='black')\n",
    "plt.text(min_spi1_loc[0], min_spi1_loc[1], f\"Min: {min_spi1_val:.2f}\", fontsize=10, ha='right', va='bottom', color='black')\n",
    "\n",
    "plt.plot(*max_spi1_loc, marker='o', color='black')\n",
    "plt.text(max_spi1_loc[0], max_spi1_loc[1], f\"Max: {max_spi1_val:.2f}\", fontsize=10, ha='left', va='top', color='black')\n",
    "\n",
    "plt.grid(True, which='major', linestyle='--', linewidth=0.5, alpha=0.4)\n",
    "plt.xlabel(\"Longitude\")\n",
    "plt.ylabel(\"Latitude\")\n",
    "plt.title(\"Heatmap SPI-1 – Bulan Juni 2020 (dengan Label Min/Max)\", fontsize=13)\n",
    "plt.gca().set_facecolor(\"white\")\n",
    "plt.axis(\"equal\")\n",
    "plt.tight_layout()\n",
    "plt.show()\n"
   ]
  }
 ],
 "metadata": {},
 "nbformat": 4,
 "nbformat_minor": 5
}