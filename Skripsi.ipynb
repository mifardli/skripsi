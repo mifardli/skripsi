{
 "cells": [
  {
   "cell_type": "code",
   "execution_count": 1,
   "id": "69356b91",
   "metadata": {},
   "outputs": [],
   "source": [
    "\n",
    "import numpy as np\n",
    "import matplotlib.pyplot as plt\n",
    "import pandas as pd\n",
    "%matplotlib inline\n",
    "import seaborn as sns\n",
    "     "
   ]
  },
  {
   "cell_type": "code",
   "execution_count": 3,
   "id": "72fe6e32",
   "metadata": {},
   "outputs": [
    {
     "data": {
      "text/html": [
       "<div>\n",
       "<style scoped>\n",
       "    .dataframe tbody tr th:only-of-type {\n",
       "        vertical-align: middle;\n",
       "    }\n",
       "\n",
       "    .dataframe tbody tr th {\n",
       "        vertical-align: top;\n",
       "    }\n",
       "\n",
       "    .dataframe thead th {\n",
       "        text-align: right;\n",
       "    }\n",
       "</style>\n",
       "<table border=\"1\" class=\"dataframe\">\n",
       "  <thead>\n",
       "    <tr style=\"text-align: right;\">\n",
       "      <th></th>\n",
       "      <th>system:time_start</th>\n",
       "      <th>SPI-1</th>\n",
       "      <th>1-month precip</th>\n",
       "    </tr>\n",
       "  </thead>\n",
       "  <tbody>\n",
       "    <tr>\n",
       "      <th>0</th>\n",
       "      <td>Jan 1, 1981</td>\n",
       "      <td>-0.784</td>\n",
       "      <td>199.159</td>\n",
       "    </tr>\n",
       "    <tr>\n",
       "      <th>1</th>\n",
       "      <td>Feb 1, 1981</td>\n",
       "      <td>-1.655</td>\n",
       "      <td>183.061</td>\n",
       "    </tr>\n",
       "    <tr>\n",
       "      <th>2</th>\n",
       "      <td>Mar 1, 1981</td>\n",
       "      <td>-0.517</td>\n",
       "      <td>282.767</td>\n",
       "    </tr>\n",
       "    <tr>\n",
       "      <th>3</th>\n",
       "      <td>Apr 1, 1981</td>\n",
       "      <td>0.230</td>\n",
       "      <td>331.622</td>\n",
       "    </tr>\n",
       "    <tr>\n",
       "      <th>4</th>\n",
       "      <td>May 1, 1981</td>\n",
       "      <td>-0.576</td>\n",
       "      <td>177.215</td>\n",
       "    </tr>\n",
       "    <tr>\n",
       "      <th>...</th>\n",
       "      <td>...</td>\n",
       "      <td>...</td>\n",
       "      <td>...</td>\n",
       "    </tr>\n",
       "    <tr>\n",
       "      <th>505</th>\n",
       "      <td>Feb 1, 2023</td>\n",
       "      <td>0.888</td>\n",
       "      <td>335.221</td>\n",
       "    </tr>\n",
       "    <tr>\n",
       "      <th>506</th>\n",
       "      <td>Mar 1, 2023</td>\n",
       "      <td>-0.455</td>\n",
       "      <td>285.944</td>\n",
       "    </tr>\n",
       "    <tr>\n",
       "      <th>507</th>\n",
       "      <td>Apr 1, 2023</td>\n",
       "      <td>1.276</td>\n",
       "      <td>410.170</td>\n",
       "    </tr>\n",
       "    <tr>\n",
       "      <th>508</th>\n",
       "      <td>May 1, 2023</td>\n",
       "      <td>-0.665</td>\n",
       "      <td>166.963</td>\n",
       "    </tr>\n",
       "    <tr>\n",
       "      <th>509</th>\n",
       "      <td>Jun 1, 2023</td>\n",
       "      <td>-0.406</td>\n",
       "      <td>68.763</td>\n",
       "    </tr>\n",
       "  </tbody>\n",
       "</table>\n",
       "<p>510 rows × 3 columns</p>\n",
       "</div>"
      ],
      "text/plain": [
       "    system:time_start  SPI-1  1-month precip\n",
       "0         Jan 1, 1981 -0.784         199.159\n",
       "1         Feb 1, 1981 -1.655         183.061\n",
       "2         Mar 1, 1981 -0.517         282.767\n",
       "3         Apr 1, 1981  0.230         331.622\n",
       "4         May 1, 1981 -0.576         177.215\n",
       "..                ...    ...             ...\n",
       "505       Feb 1, 2023  0.888         335.221\n",
       "506       Mar 1, 2023 -0.455         285.944\n",
       "507       Apr 1, 2023  1.276         410.170\n",
       "508       May 1, 2023 -0.665         166.963\n",
       "509       Jun 1, 2023 -0.406          68.763\n",
       "\n",
       "[510 rows x 3 columns]"
      ]
     },
     "execution_count": 3,
     "metadata": {},
     "output_type": "execute_result"
    }
   ],
   "source": [
    "# load the dataset\n",
    "#url = 'https://raw.githubusercontent.com/tidyverse/ggplot2/main/data-raw/economics.csv'\n",
    "chirps = pd.read_csv('SPI-1.csv')\n",
    "chirps"
   ]
  },
  {
   "cell_type": "code",
   "execution_count": 4,
   "id": "6cd541bc",
   "metadata": {},
   "outputs": [
    {
     "name": "stdout",
     "output_type": "stream",
     "text": [
      "<class 'pandas.core.frame.DataFrame'>\n",
      "RangeIndex: 510 entries, 0 to 509\n",
      "Data columns (total 3 columns):\n",
      " #   Column             Non-Null Count  Dtype  \n",
      "---  ------             --------------  -----  \n",
      " 0   system:time_start  510 non-null    object \n",
      " 1   SPI-1              510 non-null    float64\n",
      " 2   1-month precip     510 non-null    float64\n",
      "dtypes: float64(2), object(1)\n",
      "memory usage: 12.1+ KB\n"
     ]
    }
   ],
   "source": [
    "chirps.info()"
   ]
  },
  {
   "cell_type": "code",
   "execution_count": 5,
   "id": "5ec1df33",
   "metadata": {},
   "outputs": [],
   "source": [
    "chirps.set_index('system:time_start', inplace=True)"
   ]
  },
  {
   "cell_type": "code",
   "execution_count": 6,
   "id": "d718d96e",
   "metadata": {},
   "outputs": [
    {
     "data": {
      "text/html": [
       "<div>\n",
       "<style scoped>\n",
       "    .dataframe tbody tr th:only-of-type {\n",
       "        vertical-align: middle;\n",
       "    }\n",
       "\n",
       "    .dataframe tbody tr th {\n",
       "        vertical-align: top;\n",
       "    }\n",
       "\n",
       "    .dataframe thead th {\n",
       "        text-align: right;\n",
       "    }\n",
       "</style>\n",
       "<table border=\"1\" class=\"dataframe\">\n",
       "  <thead>\n",
       "    <tr style=\"text-align: right;\">\n",
       "      <th></th>\n",
       "      <th>SPI-1</th>\n",
       "      <th>1-month precip</th>\n",
       "    </tr>\n",
       "  </thead>\n",
       "  <tbody>\n",
       "    <tr>\n",
       "      <th>count</th>\n",
       "      <td>510.000000</td>\n",
       "      <td>510.000000</td>\n",
       "    </tr>\n",
       "    <tr>\n",
       "      <th>mean</th>\n",
       "      <td>-0.004720</td>\n",
       "      <td>224.662967</td>\n",
       "    </tr>\n",
       "    <tr>\n",
       "      <th>std</th>\n",
       "      <td>0.979796</td>\n",
       "      <td>146.309352</td>\n",
       "    </tr>\n",
       "    <tr>\n",
       "      <th>min</th>\n",
       "      <td>-2.582000</td>\n",
       "      <td>11.616000</td>\n",
       "    </tr>\n",
       "    <tr>\n",
       "      <th>25%</th>\n",
       "      <td>-0.684750</td>\n",
       "      <td>83.756750</td>\n",
       "    </tr>\n",
       "    <tr>\n",
       "      <th>50%</th>\n",
       "      <td>-0.148000</td>\n",
       "      <td>235.919500</td>\n",
       "    </tr>\n",
       "    <tr>\n",
       "      <th>75%</th>\n",
       "      <td>0.569000</td>\n",
       "      <td>326.327000</td>\n",
       "    </tr>\n",
       "    <tr>\n",
       "      <th>max</th>\n",
       "      <td>3.755000</td>\n",
       "      <td>873.620000</td>\n",
       "    </tr>\n",
       "  </tbody>\n",
       "</table>\n",
       "</div>"
      ],
      "text/plain": [
       "            SPI-1  1-month precip\n",
       "count  510.000000      510.000000\n",
       "mean    -0.004720      224.662967\n",
       "std      0.979796      146.309352\n",
       "min     -2.582000       11.616000\n",
       "25%     -0.684750       83.756750\n",
       "50%     -0.148000      235.919500\n",
       "75%      0.569000      326.327000\n",
       "max      3.755000      873.620000"
      ]
     },
     "execution_count": 6,
     "metadata": {},
     "output_type": "execute_result"
    }
   ],
   "source": [
    "chirps.describe()"
   ]
  },
  {
   "cell_type": "code",
   "execution_count": 8,
   "id": "1078c55a",
   "metadata": {},
   "outputs": [
    {
     "data": {
      "text/plain": [
       "Text(0.5, 1.0, 'Correlation Matrix untuk Fitur Numerik ')"
      ]
     },
     "execution_count": 8,
     "metadata": {},
     "output_type": "execute_result"
    },
    {
     "data": {
      "image/png": "[encoded data removed]",
      "text/plain": [
       "<Figure size 1000x800 with 2 Axes>"
      ]
     },
     "metadata": {},
     "output_type": "display_data"
    }
   ],
   "source": [
    "\n",
    "plt.figure(figsize=(10, 8))\n",
    "correlation_matrix = chirps.corr().round(2)\n",
    " \n",
    "# Untuk menge-print nilai di dalam kotak, gunakan parameter anot=True\n",
    "sns.heatmap(data=correlation_matrix, annot=True, cmap='coolwarm', linewidths=0.5, )\n",
    "plt.title(\"Correlation Matrix untuk Fitur Numerik \", size=20)"
   ]
  },
  {
   "cell_type": "code",
   "execution_count": 9,
   "id": "eb7b1e55",
   "metadata": {},
   "outputs": [
    {
     "data": {
      "image/png": "[encoded data removed]",
      "text/plain": [
       "<Figure size 2000x1500 with 2 Axes>"
      ]
     },
     "metadata": {},
     "output_type": "display_data"
    }
   ],
   "source": [
    "chirps.hist(bins=50, figsize=(20,15))\n",
    "plt.show()"
   ]
  },
  {
   "cell_type": "code",
   "execution_count": 10,
   "id": "48d70aae",
   "metadata": {},
   "outputs": [],
   "source": [
    "\n",
    "from sklearn.model_selection import train_test_split\n",
    " \n",
    "X = chirps.drop([\"SPI-1\"],axis =1)\n",
    "y = chirps[\"SPI-1\"]\n",
    "X_train, X_test, y_train, y_test = train_test_split(X, y, test_size = 0.1, random_state = 123)"
   ]
  },
  {
   "cell_type": "code",
   "execution_count": 11,
   "id": "777bda20",
   "metadata": {},
   "outputs": [
    {
     "name": "stdout",
     "output_type": "stream",
     "text": [
      "Total # of sample in whole dataset: 510\n",
      "Total # of sample in train dataset: 459\n",
      "Total # of sample in test dataset: 51\n"
     ]
    }
   ],
   "source": [
    "\n",
    "print(f'Total # of sample in whole dataset: {len(X)}')\n",
    "print(f'Total # of sample in train dataset: {len(X_train)}')\n",
    "print(f'Total # of sample in test dataset: {len(X_test)}')\n"
   ]
  },
  {
   "cell_type": "code",
   "execution_count": 12,
   "id": "8d021609",
   "metadata": {},
   "outputs": [
    {
     "data": {
      "text/html": [
       "<div>\n",
       "<style scoped>\n",
       "    .dataframe tbody tr th:only-of-type {\n",
       "        vertical-align: middle;\n",
       "    }\n",
       "\n",
       "    .dataframe tbody tr th {\n",
       "        vertical-align: top;\n",
       "    }\n",
       "\n",
       "    .dataframe thead th {\n",
       "        text-align: right;\n",
       "    }\n",
       "</style>\n",
       "<table border=\"1\" class=\"dataframe\">\n",
       "  <thead>\n",
       "    <tr style=\"text-align: right;\">\n",
       "      <th></th>\n",
       "      <th>1-month precip</th>\n",
       "    </tr>\n",
       "    <tr>\n",
       "      <th>system:time_start</th>\n",
       "      <th></th>\n",
       "    </tr>\n",
       "  </thead>\n",
       "  <tbody>\n",
       "    <tr>\n",
       "      <th>Jan 1, 2005</th>\n",
       "      <td>0.077234</td>\n",
       "    </tr>\n",
       "    <tr>\n",
       "      <th>Apr 1, 1982</th>\n",
       "      <td>0.621198</td>\n",
       "    </tr>\n",
       "    <tr>\n",
       "      <th>Feb 1, 2013</th>\n",
       "      <td>0.071325</td>\n",
       "    </tr>\n",
       "    <tr>\n",
       "      <th>Jan 1, 1983</th>\n",
       "      <td>-0.232132</td>\n",
       "    </tr>\n",
       "    <tr>\n",
       "      <th>Dec 1, 1995</th>\n",
       "      <td>0.520242</td>\n",
       "    </tr>\n",
       "  </tbody>\n",
       "</table>\n",
       "</div>"
      ],
      "text/plain": [
       "                   1-month precip\n",
       "system:time_start                \n",
       "Jan 1, 2005              0.077234\n",
       "Apr 1, 1982              0.621198\n",
       "Feb 1, 2013              0.071325\n",
       "Jan 1, 1983             -0.232132\n",
       "Dec 1, 1995              0.520242"
      ]
     },
     "execution_count": 12,
     "metadata": {},
     "output_type": "execute_result"
    }
   ],
   "source": [
    "\n",
    "from sklearn.preprocessing import StandardScaler\n",
    " \n",
    "numerical_features = ['1-month precip']\n",
    "scaler = StandardScaler()\n",
    "scaler.fit(X_train[numerical_features])\n",
    "X_train[numerical_features] = scaler.transform(X_train.loc[:, numerical_features])\n",
    "X_train[numerical_features].head()"
   ]
  },
  {
   "cell_type": "code",
   "execution_count": 13,
   "id": "81a93c1d",
   "metadata": {},
   "outputs": [
    {
     "data": {
      "text/html": [
       "<div>\n",
       "<style scoped>\n",
       "    .dataframe tbody tr th:only-of-type {\n",
       "        vertical-align: middle;\n",
       "    }\n",
       "\n",
       "    .dataframe tbody tr th {\n",
       "        vertical-align: top;\n",
       "    }\n",
       "\n",
       "    .dataframe thead th {\n",
       "        text-align: right;\n",
       "    }\n",
       "</style>\n",
       "<table border=\"1\" class=\"dataframe\">\n",
       "  <thead>\n",
       "    <tr style=\"text-align: right;\">\n",
       "      <th></th>\n",
       "      <th>1-month precip</th>\n",
       "    </tr>\n",
       "  </thead>\n",
       "  <tbody>\n",
       "    <tr>\n",
       "      <th>count</th>\n",
       "      <td>459.0000</td>\n",
       "    </tr>\n",
       "    <tr>\n",
       "      <th>mean</th>\n",
       "      <td>0.0000</td>\n",
       "    </tr>\n",
       "    <tr>\n",
       "      <th>std</th>\n",
       "      <td>1.0011</td>\n",
       "    </tr>\n",
       "    <tr>\n",
       "      <th>min</th>\n",
       "      <td>-1.4384</td>\n",
       "    </tr>\n",
       "    <tr>\n",
       "      <th>25%</th>\n",
       "      <td>-0.9794</td>\n",
       "    </tr>\n",
       "    <tr>\n",
       "      <th>50%</th>\n",
       "      <td>0.0772</td>\n",
       "    </tr>\n",
       "    <tr>\n",
       "      <th>75%</th>\n",
       "      <td>0.7206</td>\n",
       "    </tr>\n",
       "    <tr>\n",
       "      <th>max</th>\n",
       "      <td>4.3830</td>\n",
       "    </tr>\n",
       "  </tbody>\n",
       "</table>\n",
       "</div>"
      ],
      "text/plain": [
       "       1-month precip\n",
       "count        459.0000\n",
       "mean           0.0000\n",
       "std            1.0011\n",
       "min           -1.4384\n",
       "25%           -0.9794\n",
       "50%            0.0772\n",
       "75%            0.7206\n",
       "max            4.3830"
      ]
     },
     "execution_count": 13,
     "metadata": {},
     "output_type": "execute_result"
    }
   ],
   "source": [
    "X_train[numerical_features].describe().round(4)"
   ]
  },
  {
   "cell_type": "code",
   "execution_count": 14,
   "id": "ffb3d95a",
   "metadata": {},
   "outputs": [],
   "source": [
    "\n",
    "models = pd.DataFrame(index=['train_mse', 'test_mse'], \n",
    "                      columns=['KNN', 'RandomForest', 'Boosting'])"
   ]
  },
  {
   "cell_type": "code",
   "execution_count": 15,
   "id": "a56e157e",
   "metadata": {},
   "outputs": [],
   "source": [
    "\n",
    "from sklearn.neighbors import KNeighborsRegressor\n",
    "from sklearn.metrics import mean_squared_error\n",
    " \n",
    "knn = KNeighborsRegressor(n_neighbors=8)\n",
    "knn.fit(X_train, y_train)\n",
    " \n",
    "models.loc['train_mse','knn'] = mean_squared_error(y_pred = knn.predict(X_train), y_true=y_train)"
   ]
  },
  {
   "cell_type": "code",
   "execution_count": 68,
   "id": "46b77bd8",
   "metadata": {},
   "outputs": [],
   "source": [
    "\n",
    "# Impor library yang dibutuhkan\n",
    "from sklearn.ensemble import RandomForestRegressor\n",
    " \n",
    "# buat model prediksi\n",
    "RF = RandomForestRegressor(n_estimators=55, max_depth=4, random_state=55, n_jobs=-1)\n",
    "RF.fit(X_train, y_train)\n",
    " \n",
    "models.loc['train_mse','RandomForest'] = mean_squared_error(y_pred=RF.predict(X_train), y_true=y_train)  "
   ]
  },
  {
   "cell_type": "code",
   "execution_count": 17,
   "id": "a3c330c1",
   "metadata": {},
   "outputs": [],
   "source": [
    "\n",
    "from sklearn.ensemble import AdaBoostRegressor\n",
    " \n",
    "boosting = AdaBoostRegressor(learning_rate=0.05, random_state=55)                             \n",
    "boosting.fit(X_train, y_train)\n",
    "models.loc['train_mse','Boosting'] = mean_squared_error(y_pred=boosting.predict(X_train), y_true=y_train)"
   ]
  },
  {
   "cell_type": "code",
   "execution_count": 18,
   "id": "24a2738b",
   "metadata": {},
   "outputs": [],
   "source": [
    "\n",
    "\n",
    "X_test.loc[:, numerical_features] = scaler.transform(X_test[numerical_features])"
   ]
  },
  {
   "cell_type": "code",
   "execution_count": 69,
   "id": "69e74ce4",
   "metadata": {},
   "outputs": [
    {
     "data": {
      "text/html": [
       "<div>\n",
       "<style scoped>\n",
       "    .dataframe tbody tr th:only-of-type {\n",
       "        vertical-align: middle;\n",
       "    }\n",
       "\n",
       "    .dataframe tbody tr th {\n",
       "        vertical-align: top;\n",
       "    }\n",
       "\n",
       "    .dataframe thead th {\n",
       "        text-align: right;\n",
       "    }\n",
       "</style>\n",
       "<table border=\"1\" class=\"dataframe\">\n",
       "  <thead>\n",
       "    <tr style=\"text-align: right;\">\n",
       "      <th></th>\n",
       "      <th>train</th>\n",
       "      <th>test</th>\n",
       "    </tr>\n",
       "  </thead>\n",
       "  <tbody>\n",
       "    <tr>\n",
       "      <th>KNN</th>\n",
       "      <td>0.000468</td>\n",
       "      <td>0.000767</td>\n",
       "    </tr>\n",
       "    <tr>\n",
       "      <th>RF</th>\n",
       "      <td>0.000461</td>\n",
       "      <td>0.000708</td>\n",
       "    </tr>\n",
       "    <tr>\n",
       "      <th>Boosting</th>\n",
       "      <td>0.00051</td>\n",
       "      <td>0.000751</td>\n",
       "    </tr>\n",
       "  </tbody>\n",
       "</table>\n",
       "</div>"
      ],
      "text/plain": [
       "             train      test\n",
       "KNN       0.000468  0.000767\n",
       "RF        0.000461  0.000708\n",
       "Boosting   0.00051  0.000751"
      ]
     },
     "execution_count": 69,
     "metadata": {},
     "output_type": "execute_result"
    }
   ],
   "source": [
    "\n",
    "\n",
    "mse = pd.DataFrame(columns=['train', 'test'], index=['KNN','RF','Boosting'])\n",
    " \n",
    "\n",
    "model_dict = {'KNN': knn, 'RF': RF, 'Boosting': boosting}\n",
    " \n",
    "\n",
    "for name, model in model_dict.items():\n",
    "    mse.loc[name, 'train'] = mean_squared_error(y_true=y_train, y_pred=model.predict(X_train))/1e3 \n",
    "    mse.loc[name, 'test'] = mean_squared_error(y_true=y_test, y_pred=model.predict(X_test))/1e3\n",
    " \n",
    "\n",
    "mse"
   ]
  },
  {
   "cell_type": "code",
   "execution_count": 70,
   "id": "e026cb44",
   "metadata": {},
   "outputs": [
    {
     "data": {
      "image/png": "[encoded data removed]",
      "text/plain": [
       "<Figure size 640x480 with 1 Axes>"
      ]
     },
     "metadata": {},
     "output_type": "display_data"
    }
   ],
   "source": [
    "\n",
    "fig, ax = plt.subplots()\n",
    "mse.sort_values(by='test', ascending=False).plot(kind='barh', ax=ax, zorder=3)\n",
    "ax.grid(zorder=0)\n"
   ]
  },
  {
   "cell_type": "code",
   "execution_count": 75,
   "id": "d3dc3b65",
   "metadata": {},
   "outputs": [
    {
     "data": {
      "text/html": [
       "<div>\n",
       "<style scoped>\n",
       "    .dataframe tbody tr th:only-of-type {\n",
       "        vertical-align: middle;\n",
       "    }\n",
       "\n",
       "    .dataframe tbody tr th {\n",
       "        vertical-align: top;\n",
       "    }\n",
       "\n",
       "    .dataframe thead th {\n",
       "        text-align: right;\n",
       "    }\n",
       "</style>\n",
       "<table border=\"1\" class=\"dataframe\">\n",
       "  <thead>\n",
       "    <tr style=\"text-align: right;\">\n",
       "      <th></th>\n",
       "      <th>y_true</th>\n",
       "      <th>prediksi_KNN</th>\n",
       "      <th>prediksi_RF</th>\n",
       "      <th>prediksi_Boosting</th>\n",
       "    </tr>\n",
       "    <tr>\n",
       "      <th>system:time_start</th>\n",
       "      <th></th>\n",
       "      <th></th>\n",
       "      <th></th>\n",
       "      <th></th>\n",
       "    </tr>\n",
       "  </thead>\n",
       "  <tbody>\n",
       "    <tr>\n",
       "      <th>Nov 1, 1983</th>\n",
       "      <td>-0.234</td>\n",
       "      <td>0.79</td>\n",
       "      <td>0.58</td>\n",
       "      <td>0.66</td>\n",
       "    </tr>\n",
       "    <tr>\n",
       "      <th>Mar 1, 1996</th>\n",
       "      <td>-1.637</td>\n",
       "      <td>0.12</td>\n",
       "      <td>-0.28</td>\n",
       "      <td>0.03</td>\n",
       "    </tr>\n",
       "    <tr>\n",
       "      <th>Feb 1, 1988</th>\n",
       "      <td>-0.895</td>\n",
       "      <td>-0.58</td>\n",
       "      <td>-0.32</td>\n",
       "      <td>-0.20</td>\n",
       "    </tr>\n",
       "    <tr>\n",
       "      <th>Oct 1, 2003</th>\n",
       "      <td>0.594</td>\n",
       "      <td>-0.28</td>\n",
       "      <td>-0.17</td>\n",
       "      <td>-0.18</td>\n",
       "    </tr>\n",
       "    <tr>\n",
       "      <th>Jan 1, 1984</th>\n",
       "      <td>0.475</td>\n",
       "      <td>-0.08</td>\n",
       "      <td>-0.19</td>\n",
       "      <td>-0.18</td>\n",
       "    </tr>\n",
       "    <tr>\n",
       "      <th>Jun 1, 1981</th>\n",
       "      <td>0.032</td>\n",
       "      <td>0.11</td>\n",
       "      <td>-0.07</td>\n",
       "      <td>-0.05</td>\n",
       "    </tr>\n",
       "    <tr>\n",
       "      <th>Sep 1, 2004</th>\n",
       "      <td>-0.292</td>\n",
       "      <td>0.19</td>\n",
       "      <td>-0.07</td>\n",
       "      <td>-0.05</td>\n",
       "    </tr>\n",
       "    <tr>\n",
       "      <th>Jan 1, 2003</th>\n",
       "      <td>-1.444</td>\n",
       "      <td>-0.58</td>\n",
       "      <td>-0.20</td>\n",
       "      <td>-0.15</td>\n",
       "    </tr>\n",
       "    <tr>\n",
       "      <th>Dec 1, 2019</th>\n",
       "      <td>0.385</td>\n",
       "      <td>1.27</td>\n",
       "      <td>1.19</td>\n",
       "      <td>1.04</td>\n",
       "    </tr>\n",
       "    <tr>\n",
       "      <th>May 1, 2008</th>\n",
       "      <td>-0.565</td>\n",
       "      <td>0.27</td>\n",
       "      <td>0.13</td>\n",
       "      <td>0.01</td>\n",
       "    </tr>\n",
       "  </tbody>\n",
       "</table>\n",
       "</div>"
      ],
      "text/plain": [
       "                   y_true  prediksi_KNN  prediksi_RF  prediksi_Boosting\n",
       "system:time_start                                                      \n",
       "Nov 1, 1983        -0.234          0.79         0.58               0.66\n",
       "Mar 1, 1996        -1.637          0.12        -0.28               0.03\n",
       "Feb 1, 1988        -0.895         -0.58        -0.32              -0.20\n",
       "Oct 1, 2003         0.594         -0.28        -0.17              -0.18\n",
       "Jan 1, 1984         0.475         -0.08        -0.19              -0.18\n",
       "Jun 1, 1981         0.032          0.11        -0.07              -0.05\n",
       "Sep 1, 2004        -0.292          0.19        -0.07              -0.05\n",
       "Jan 1, 2003        -1.444         -0.58        -0.20              -0.15\n",
       "Dec 1, 2019         0.385          1.27         1.19               1.04\n",
       "May 1, 2008        -0.565          0.27         0.13               0.01"
      ]
     },
     "execution_count": 75,
     "metadata": {},
     "output_type": "execute_result"
    }
   ],
   "source": [
    "\n",
    "prediksi = X_test.iloc[:10].copy()\n",
    "pred_dict = {'y_true':y_test[:10]}\n",
    "for name, model in model_dict.items():\n",
    "    pred_dict['prediksi_'+name] = model.predict(prediksi).round(2)\n",
    " \n",
    "pd.DataFrame(pred_dict)"
   ]
  },
  {
   "cell_type": "code",
   "execution_count": null,
   "id": "1e5c01bd",
   "metadata": {},
   "outputs": [],
   "source": []
  }
 ],
 "metadata": {
  "kernelspec": {
   "display_name": "Python 3 (ipykernel)",
   "language": "python",
   "name": "python3"
  },
  "language_info": {
   "codemirror_mode": {
    "name": "ipython",
    "version": 3
   },
   "file_extension": ".py",
   "mimetype": "text/x-python",
   "name": "python",
   "nbconvert_exporter": "python",
   "pygments_lexer": "ipython3",
   "version": "3.11.3"
  }
 },
 "nbformat": 4,
 "nbformat_minor": 5
}
