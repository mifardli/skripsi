{
  "nbformat": 4,
  "nbformat_minor": 0,
  "metadata": {
    "colab": {
      "provenance": []
    },
    "kernelspec": {
      "name": "python3",
      "display_name": "Python 3"
    },
    "language_info": {
      "name": "python"
    }
  },
  "cells": [
    {
      "cell_type": "code",
      "execution_count": null,
      "metadata": {
        "id": "Ez7bvv3y-n93"
      },
      "outputs": [],
      "source": [
        "var l8 = ee.ImageCollection('LANDSAT/LC08/C01/T1_TOA');\n",
        "Map.addLayer(lembang)\n",
        "// Get the least cloudy image.\n",
        "var images =\n",
        "l8.filterBounds(geometry)\n",
        ".filterDate('2012-01-01', '2023-12-31')\n",
        ".sort('CLOUD_COVER')\n",
        ".first()\n",
        "\n",
        "// Compute the Normalized Difference Vegetation Index (NDVI).\n",
        "var nir = images.select('B5');\n",
        "var red = images.select('B4');\n",
        "var ndvi = nir.subtract(red).divide(nir.add(red)).rename('NDVI').clip(lembang);\n",
        "\n",
        "// Display the result.\n",
        "var ndviParams = {min: -1, max: 1, palette:['red', 'yellow', 'green']};\n",
        "Map.addLayer(ndvi, ndviParams, 'NDVI image');\n",
        "\n",
        "/* f_images =\n",
        "Export.image.toDrive({\n",
        "  image:ndvi,\n",
        "  description:'f_images22',\n",
        "  region:lembang,\n",
        "  scale:30\n",
        "}) */"
      ]
    }
  ]
}